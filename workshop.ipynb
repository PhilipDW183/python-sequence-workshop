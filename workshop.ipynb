{
 "metadata": {
  "language_info": {
   "codemirror_mode": {
    "name": "ipython",
    "version": 3
   },
   "file_extension": ".py",
   "mimetype": "text/x-python",
   "name": "python",
   "nbconvert_exporter": "python",
   "pygments_lexer": "ipython3",
   "version": "3.7.4-final"
  },
  "orig_nbformat": 2,
  "kernelspec": {
   "name": "Python 3.7.4 64-bit",
   "display_name": "Python 3.7.4 64-bit",
   "metadata": {
    "interpreter": {
     "hash": "df955ce39d0f31d56d4bb2fe0a613e5326ba60723fd33d8303a3aede8f65715c"
    }
   }
  }
 },
 "nbformat": 4,
 "nbformat_minor": 2,
 "cells": [
  {
   "source": [
    "# \\[PY02\\] Introduction to Python Programming\n",
    "## Sequences: Lists and Tuples"
   ],
   "cell_type": "markdown",
   "metadata": {}
  },
  {
   "source": [
    "> **Author:** Zhaoxuan \"Tony\" Wu, Head of Science (20/21), UCL DSS\n",
    ">\n",
    "> **Date:** 19 Oct 2020\n",
    ">\n",
    "> ***Proudly presented by the UCL Data Science Society***"
   ],
   "cell_type": "markdown",
   "metadata": {}
  },
  {
   "source": [
    "## Acknowledgement\n",
    "The content of the workshop is inspired by *Fluent Python, 2nd Edition* by Ramalho"
   ],
   "cell_type": "markdown",
   "metadata": {}
  },
  {
   "source": [
    "In this workshop, we will be introduced the data structure `sequence` in Python and two examples: `list` and `tuple`. We will take a closer look into the methods provided, attributes, the APIs, the usage and some implementation details into these data structures, which should provide you with a thorough introduction to `list` and `tuple`. Even if you are familiar with the data structures, this workshop might be able to give you some insightful explanation of why things are done in some certain ways."
   ],
   "cell_type": "markdown",
   "metadata": {}
  },
  {
   "source": [
    "## Sequence\n",
    "\n",
    "The Python standard library offers a rich selection of sequence types implemented in C.\n",
    "\n",
    "### Container vs Flat\n",
    "\n",
    "#### Container Sequence\n",
    "Sequences that hold items of different types, including nested container. \n",
    "\n",
    "- `list`\n",
    "- `tuple`\n",
    "- `collections.deque`\n",
    "\n",
    "> It holds ***references*** to the objects it contains, which might be of ***any type***\n",
    "\n",
    "#### Flat Sequence\n",
    "Squences that hold items of one simple types.\n",
    "\n",
    "- `str`\n",
    "- `bytes`\n",
    "- `bytearray`\n",
    "- `memoryview`\n",
    "- `array.array`\n",
    "\n",
    "> It holds the ***value*** of ites contents in its own memory space, and not as distinct objects.\n",
    "\n",
    "<img src=\"assets/container.png\">\n",
    "\n",
    "### Mutability\n",
    "\n",
    "We can also view the sequences from a mutable vs immutable view.\n",
    "\n",
    "#### Mutable Sequences\n",
    "The contents stored in the sequences of this such can be changed after these sequences are created.\n",
    "\n",
    "- `list`\n",
    "- `bytearray`\n",
    "- `array.array`\n",
    "- `collections.deque`\n",
    "- `memoryview`\n",
    "\n",
    "#### Immutable Sequences\n",
    "\n",
    "The contents stored in the sequences of this such ***cannot*** be changed after being created.\n",
    "\n",
    "- `tuple`\n",
    "- `str`\n",
    "- `bytes`\n",
    "\n",
    "<img src=\"assets/mutable.png\">"
   ],
   "cell_type": "markdown",
   "metadata": {}
  },
  {
   "source": [
    "## `list` and `tuple` at A Glance"
   ],
   "cell_type": "markdown",
   "metadata": {}
  },
  {
   "cell_type": "code",
   "execution_count": null,
   "metadata": {},
   "outputs": [],
   "source": [
    "list_by_literal = [1, 2, 3, \"4\", 5.0]\n",
    "print(\"List created by literal: \", list_by_literal)\n",
    "\n",
    "list_by_constructor = list([\"Welcome\", 2, \"DSS\"])\n",
    "print(\"List created by constructor: \", list_by_constructor)\n",
    "\n",
    "# This is wrong - why?\n",
    "# wrong_list = list(1, 2, 3)"
   ]
  },
  {
   "cell_type": "code",
   "execution_count": null,
   "metadata": {},
   "outputs": [],
   "source": [
    "x = [1, 2, 3, 4, 5]\n",
    "\n",
    "print(\"Length - len(x): \", len(x))\n",
    "\n",
    "x.append(\"6\")\n",
    "print(\"\\nAdd an object to tail - x.append(obj): \", x)\n",
    "\n",
    "x.reverse()\n",
    "print(\"\\nReversed - x.reverse(): \", x)\n",
    "\n",
    "x.remove(\"6\")\n",
    "print(\"\\nRemove a named object - x.remove(obj): \", x)\n",
    "\n",
    "print(\"\\nContains? - object in x: \", 7 in x)\n",
    "print(\"Contains? - object in x: \", 1 in x)\n",
    "\n",
    "\n",
    "print(\"\\nGet item - x[i]: \", x, x[3])"
   ]
  },
  {
   "cell_type": "code",
   "execution_count": null,
   "metadata": {},
   "outputs": [],
   "source": [
    "tuple_by_literal = (1, 2, 3, \"4\", 5.0)\n",
    "print(\"Tuple created by literal: \", tuple_by_literal)\n",
    "\n",
    "tuple_by_constructor = tuple([\"Welcome\", 2, \"DSS\"])\n",
    "print(\"Tuple created by constructor: \", tuple_by_constructor)\n",
    "\n",
    "tuple_by_constructor = tuple((\"Welcome\", 2, \"DSS\", \"Workshop\"))\n",
    "print(\"Tuple created by constructor: \", tuple_by_constructor)\n",
    "\n",
    "# This is wrong - why?\n",
    "# wrong_tuple = tuple(1, 2, 3)"
   ]
  },
  {
   "cell_type": "code",
   "execution_count": 18,
   "metadata": {},
   "outputs": [
    {
     "output_type": "stream",
     "name": "stdout",
     "text": [
      "Length - len(x):  5\n\nContains? - object in x:  False\nContains? - object in x:  True\n\nGet item - x[i]:  (1, 2, 3, 3, 5) 3\n\nCount item - x.count(item):  2\n\nCount item - x.count(item):  0\n"
     ]
    }
   ],
   "source": [
    "x = (1, 2, 3, 3, 5)\n",
    "\n",
    "print(\"Length - len(x): \", len(x))\n",
    "\n",
    "print(\"\\nContains? - object in x: \", 7 in x)\n",
    "print(\"Contains? - object in x: \", 1 in x)\n",
    "\n",
    "print(\"\\nGet item - x[i]: \", x, x[3])\n",
    "\n",
    "print(\"\\nCount item - x.count(item): \", x.count(3))\n",
    "print(\"Count item - x.count(item): \", x.count(7))\n",
    "\n",
    "# The following doesn't work as expected, why?\n",
    "# x.append(\"6\")\n",
    "# x.reverse()\n",
    "# x.remove(\"6\")"
   ]
  },
  {
   "source": [
    "## List Comprehensions (*\"listcomp\"*)"
   ],
   "cell_type": "markdown",
   "metadata": {}
  },
  {
   "source": [
    "## `tuple`"
   ],
   "cell_type": "markdown",
   "metadata": {}
  },
  {
   "source": [
    "## Slicing"
   ],
   "cell_type": "markdown",
   "metadata": {}
  },
  {
   "source": [
    "## `+` and `*` on Sequences"
   ],
   "cell_type": "markdown",
   "metadata": {}
  },
  {
   "source": [
    "## Sorting"
   ],
   "cell_type": "markdown",
   "metadata": {}
  },
  {
   "cell_type": "code",
   "execution_count": null,
   "metadata": {},
   "outputs": [],
   "source": []
  }
 ]
}