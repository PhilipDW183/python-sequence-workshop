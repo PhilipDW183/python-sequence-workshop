{
 "metadata": {
  "language_info": {
   "codemirror_mode": {
    "name": "ipython",
    "version": 3
   },
   "file_extension": ".py",
   "mimetype": "text/x-python",
   "name": "python",
   "nbconvert_exporter": "python",
   "pygments_lexer": "ipython3",
   "version": "3.7.4-final"
  },
  "orig_nbformat": 2,
  "kernelspec": {
   "name": "Python 3.7.4 64-bit",
   "display_name": "Python 3.7.4 64-bit",
   "metadata": {
    "interpreter": {
     "hash": "df955ce39d0f31d56d4bb2fe0a613e5326ba60723fd33d8303a3aede8f65715c"
    }
   }
  }
 },
 "nbformat": 4,
 "nbformat_minor": 2,
 "cells": [
  {
   "source": [
    "# \\[PY02\\] Introduction to Python Programming\n",
    "## Sequences: Lists and Tuples"
   ],
   "cell_type": "markdown",
   "metadata": {}
  },
  {
   "source": [
    "> **Author:** Zhaoxuan \"Tony\" Wu, Head of Science (20/21), UCL DSS\n",
    ">\n",
    "> **Date:** 19 Oct 2020\n",
    ">\n",
    "> ***Proudly presented by the UCL Data Science Society***"
   ],
   "cell_type": "markdown",
   "metadata": {}
  },
  {
   "source": [
    "## Acknowledgement\n",
    "The content of the workshop is inspired by *Fluent Python, 2nd Edition* by Ramalho"
   ],
   "cell_type": "markdown",
   "metadata": {}
  },
  {
   "source": [
    "In this workshop, we will be introduced the data structure `sequence` in Python and two examples: `list` and `tuple`. We will take a closer look into the methods provided, attributes, the APIs, the usage and some implementation details into these data structures, which should provide you with a thorough introduction to `list` and `tuple`. Even if you are familiar with the data structures, this workshop might be able to give you some insightful explanation of why things are done in some certain ways."
   ],
   "cell_type": "markdown",
   "metadata": {}
  },
  {
   "source": [
    "## Sequence\n",
    "\n",
    "The Python standard library offers a rich selection of sequence types implemented in C.\n",
    "\n",
    "### Container vs Flat\n",
    "\n",
    "#### Container Sequence\n",
    "Sequences that hold items of different types, including nested container. \n",
    "\n",
    "- `list`\n",
    "- `tuple`\n",
    "- `collections.deque`\n",
    "\n",
    "> It holds ***references*** to the objects it contains, which might be of ***any type***\n",
    "\n",
    "#### Flat Sequence\n",
    "Squences that hold items of one simple types.\n",
    "\n",
    "- `str`\n",
    "- `bytes`\n",
    "- `bytearray`\n",
    "- `memoryview`\n",
    "- `array.array`\n",
    "\n",
    "> It holds the ***value*** of ites contents in its own memory space, and not as distinct objects.\n",
    "\n",
    "<img src=\"assets/container.png\">\n",
    "\n",
    "### Mutability\n",
    "\n",
    "We can also view the sequences from a mutable vs immutable view.\n",
    "\n",
    "#### Mutable Sequences\n",
    "The contents stored in the sequences of this such can be changed after these sequences are created.\n",
    "\n",
    "- `list`\n",
    "- `bytearray`\n",
    "- `array.array`\n",
    "- `collections.deque`\n",
    "- `memoryview`\n",
    "\n",
    "#### Immutable Sequences\n",
    "\n",
    "The contents stored in the sequences of this such ***cannot*** be changed after being created.\n",
    "\n",
    "- `tuple`\n",
    "- `str`\n",
    "- `bytes`\n",
    "\n",
    "<img src=\"assets/mutable.png\">"
   ],
   "cell_type": "markdown",
   "metadata": {}
  },
  {
   "source": [
    "## `list` and `tuple` at A Glance"
   ],
   "cell_type": "markdown",
   "metadata": {}
  },
  {
   "cell_type": "code",
   "execution_count": null,
   "metadata": {},
   "outputs": [],
   "source": [
    "list_by_literal = [1, 2, 3, \"4\", 5.0]\n",
    "print(\"List created by literal: \", list_by_literal)\n",
    "\n",
    "list_by_constructor = list([\"Welcome\", 2, \"DSS\"])\n",
    "print(\"List created by constructor: \", list_by_constructor)\n",
    "\n",
    "# This is wrong - why?\n",
    "# wrong_list = list(1, 2, 3)"
   ]
  },
  {
   "cell_type": "code",
   "execution_count": null,
   "metadata": {},
   "outputs": [],
   "source": [
    "x = [1, 2, 3, 4, 5]\n",
    "\n",
    "print(\"Length - len(x): \", len(x))\n",
    "\n",
    "x.append(\"6\")\n",
    "print(\"\\nAdd an object to tail - x.append(obj): \", x)\n",
    "\n",
    "x.reverse()\n",
    "print(\"\\nReversed - x.reverse(): \", x)\n",
    "\n",
    "x.remove(\"6\")\n",
    "print(\"\\nRemove a named object - x.remove(obj): \", x)\n",
    "\n",
    "print(\"\\nContains? - object in x: \", 7 in x)\n",
    "print(\"Contains? - object in x: \", 1 in x)\n",
    "\n",
    "\n",
    "print(\"\\nGet item - x[i]: \", x, x[3])\n",
    "x[3] = 100\n",
    "print(\"\\nSet item - x[i] = obj: \", x)"
   ]
  },
  {
   "source": [
    "### Thinking Question: ***Mutability***\n",
    "\n",
    "How to change a single character in a `str`?"
   ],
   "cell_type": "markdown",
   "metadata": {}
  },
  {
   "cell_type": "code",
   "execution_count": null,
   "metadata": {},
   "outputs": [],
   "source": [
    "# Try it yourself\n",
    "input_str = \"Hallo world!\"\n",
    "expected_str = \"Hello world!\""
   ]
  },
  {
   "cell_type": "code",
   "execution_count": null,
   "metadata": {},
   "outputs": [],
   "source": [
    "tuple_by_literal = (1, 2, 3, \"4\", 5.0)\n",
    "print(\"Tuple created by literal: \", tuple_by_literal)\n",
    "\n",
    "tuple_by_constructor = tuple([\"Welcome\", 2, \"DSS\"])\n",
    "print(\"Tuple created by constructor: \", tuple_by_constructor)\n",
    "\n",
    "tuple_by_constructor = tuple((\"Welcome\", 2, \"DSS\", \"Workshop\"))\n",
    "print(\"Tuple created by constructor: \", tuple_by_constructor)\n",
    "\n",
    "# This is wrong - why?\n",
    "# wrong_tuple = tuple(1, 2, 3)"
   ]
  },
  {
   "cell_type": "code",
   "execution_count": null,
   "metadata": {},
   "outputs": [],
   "source": [
    "x = (1, 2, 3, 3, 5)\n",
    "\n",
    "print(\"Length - len(x): \", len(x))\n",
    "\n",
    "print(\"\\nContains? - object in x: \", 7 in x)\n",
    "print(\"Contains? - object in x: \", 1 in x)\n",
    "\n",
    "print(\"\\nGet item - x[i]: \", x, x[3])\n",
    "\n",
    "print(\"\\nCount item - x.count(item): \", x.count(3))\n",
    "print(\"Count item - x.count(item): \", x.count(7))\n",
    "\n",
    "# The following doesn't work as expected, why?\n",
    "# x.append(\"6\")\n",
    "# x.reverse()\n",
    "# x.remove(\"6\")"
   ]
  },
  {
   "source": [
    "## List Comprehensions (*\"listcomp\"*)\n",
    "\n",
    "This is a quick way to build a sequence. It gives better readability and efficiency.\n",
    "\n",
    "A blueprint for listcomp:\n",
    "\n",
    "```python\n",
    "your_list = [f(x) for x in <some_iterable>]\n",
    "```"
   ],
   "cell_type": "markdown",
   "metadata": {}
  },
  {
   "source": [
    "### Example: Parsing Chinese String into Unicode `list`\n",
    "#### Typical `for in` Solution"
   ],
   "cell_type": "markdown",
   "metadata": {}
  },
  {
   "cell_type": "code",
   "execution_count": null,
   "metadata": {},
   "outputs": [],
   "source": [
    "input_str = \"欢迎来到数据科学社工作坊\"\n",
    "codes = []\n",
    "\n",
    "for char in input_str:\n",
    "    codes.append(ord(char))\n",
    "\n",
    "codes"
   ]
  },
  {
   "source": [
    "#### Listcomp Solution\n",
    "\n",
    "Here: \n",
    "- `x` is `char`\n",
    "- `f(x)` is `ord(char)\n",
    "- `<some_iterable>` is `input_str`"
   ],
   "cell_type": "markdown",
   "metadata": {}
  },
  {
   "cell_type": "code",
   "execution_count": null,
   "metadata": {},
   "outputs": [],
   "source": [
    "input_str = \"欢迎来到数据科学社工作坊\"\n",
    "codes = [ord(char) for char in input_str]\n",
    "codes"
   ]
  },
  {
   "source": [
    "### Think Question: Two-Dimensional List with listcomp\n",
    "\n",
    "Why it works? Fill in these points might help you think:\n",
    "\n",
    "In the inner listcomp:\n",
    "- `x` is :\n",
    "- `f(x)` is :\n",
    "- `<some_iterable>` is :\n",
    "\n",
    "In the outer listcomp:\n",
    "- `x` is :\n",
    "- `f(x)` is :\n",
    "- `<some_iterable>` is :"
   ],
   "cell_type": "markdown",
   "metadata": {}
  },
  {
   "cell_type": "code",
   "execution_count": null,
   "metadata": {},
   "outputs": [],
   "source": [
    "a = [[0 for i in range(0,9)] for j in range (0,9)]\n",
    "a"
   ]
  },
  {
   "source": [
    "#### Exercise 1a: Listcomp\n",
    "Create a list `a` of powers of 2 upto the 10th item, starting with 1"
   ],
   "cell_type": "markdown",
   "metadata": {}
  },
  {
   "cell_type": "code",
   "execution_count": null,
   "metadata": {},
   "outputs": [],
   "source": [
    "# Try it yourself"
   ]
  },
  {
   "source": [
    "### Cartesian Product with listcomp\n",
    "The resulting list has a length equal to the lengths of the input iterables multiplied.\n",
    "\n",
    "<img src=\"assets/cart_prod.png\">"
   ],
   "cell_type": "markdown",
   "metadata": {}
  },
  {
   "source": [
    "#### Example: T-Shirts\n",
    "We've got t-shirts of sizes: `S`, `M`, `L` and colour `black`, `white`, `red` in the store. Create a list consisting of tuples of different size+colour combinations"
   ],
   "cell_type": "markdown",
   "metadata": {}
  },
  {
   "cell_type": "code",
   "execution_count": null,
   "metadata": {},
   "outputs": [],
   "source": [
    "colours = ['black', 'white', 'red']\n",
    "sizes = ['S', 'M', 'L']\n",
    "\n",
    "tshirts = [(colour, size) for colour in colours for size in sizes]\n",
    "\n",
    "tshirts"
   ]
  },
  {
   "source": [
    "#### Exercise: Cartesian Products\n",
    "\n",
    "Work out the Cartesian product of vectors `[1, 2, 3]` and `[4, 5, 6]` using listcomp, and multiply each resultant item by 4. Output the resultant list"
   ],
   "cell_type": "markdown",
   "metadata": {}
  },
  {
   "cell_type": "code",
   "execution_count": null,
   "metadata": {},
   "outputs": [],
   "source": [
    "vector_1 = [1, 2, 3]\n",
    "vector_2 = [4, 5, 6]\n",
    "\n",
    "# Try it yourself"
   ]
  },
  {
   "source": [
    "## `tuple`\n",
    "\n",
    "Some text refer `tuple` as \"immutable list\". Is it true? Is that all what `tuple` is?\n",
    "\n",
    "### `tuple` as Records and Unpacking\n",
    "\n",
    "`tuple` holds records: each item in tuple holds the data for one field and the position of the item gives its meaning. The immutability ensures the number of fields is fixed and thus the integrity in the information it carries is maintained.\n",
    "\n",
    "This is also an advantage that allow us to introduce tuple unpacking"
   ],
   "cell_type": "markdown",
   "metadata": {}
  },
  {
   "cell_type": "code",
   "execution_count": null,
   "metadata": {},
   "outputs": [],
   "source": [
    "input_tuple_from_db = ('Tony', 'Male', 'Chinese', ('UCL', 'Shenzhen College of Int\\'l Education') , 2)\n",
    "\n",
    "name, gender, nationality, (univ, high_school), year = input_tuple_from_db\n",
    "\n",
    "print(\"Name: %s\\nGender: %s\\nNationality: %s\\nUniversity: %s\\nHigh School: %s\\nYear Group: %s\"%(name, gender, nationality, univ, high_school, str(year)))"
   ]
  },
  {
   "source": [
    "# Dummy Place holder\n",
    "some_tuple = ('useless', 'meaningful1', 'useless', 'meaningful2')\n",
    "\n",
    "_, data1, _, data2 = some_tuple\n",
    "\n",
    "data1, data2"
   ],
   "cell_type": "code",
   "metadata": {},
   "execution_count": null,
   "outputs": []
  },
  {
   "source": [
    "### `tuple` as Immutable Lists\n",
    "\n",
    "Benefits:\n",
    "- ***Clarity***: If you see a `tuple` in code, you know the length will never change\n",
    "- ***Performance***: Less memory consumed"
   ],
   "cell_type": "markdown",
   "metadata": {}
  },
  {
   "source": [
    "### Thinking Question: Immutable but a Container?\n",
    "\n",
    "***Note that***: Though a `tuple` is immutable, but it is still a *container sequence*! \n",
    "\n",
    "***Why does it matter?***\n",
    "\n",
    ">***Hint***: a `tuple` containing a `list`?\n"
   ],
   "cell_type": "markdown",
   "metadata": {}
  },
  {
   "cell_type": "code",
   "execution_count": null,
   "metadata": {},
   "outputs": [],
   "source": [
    "# Try it yourself"
   ]
  },
  {
   "source": [
    "## Slicing"
   ],
   "cell_type": "markdown",
   "metadata": {}
  },
  {
   "source": [
    "a = [1, 2, 3, 4, 5]\n",
    "\n",
    "print(\"Items at index 0~1: \", a[:2])\n",
    "print(\"Items at index 2~end:\", a[2:])"
   ],
   "cell_type": "code",
   "metadata": {},
   "execution_count": null,
   "outputs": []
  },
  {
   "cell_type": "code",
   "execution_count": null,
   "metadata": {},
   "outputs": [],
   "source": [
    "s = 'bicycle'\n",
    "print(\"First to last, step of 3: \", s[::3])\n",
    "print(\"First to last, step of -1 (a.k.a reverse): \", s[::-1])\n",
    "print(\"Last to first, step of 2: \", s[::-2])"
   ]
  },
  {
   "source": [
    "### [Slice Object](https://docs.python.org/3/c-api/slice.html?highlight=slice)\n",
    "\n",
    "In order to evaluate `seq[start:stop:step]`, Python calls `seq.__getitem__(slice(start, stop, step))`"
   ],
   "cell_type": "markdown",
   "metadata": {}
  },
  {
   "source": [
    "### Thinking Question: Assigning to Slices?\n",
    "\n",
    "Is it possible to assign to slices of mutable sequences?\n",
    "\n",
    "Consider `a[3] == 100`, what is the nature of this expression? What is your answer to the previous question now?\n",
    "\n",
    "If yes, how?"
   ],
   "cell_type": "markdown",
   "metadata": {}
  },
  {
   "source": [
    "## `+` and `*` on Sequences\n",
    "Addition and multiplication ***return*** a sequence of the same type as the oprand's. It makes a cahnged ***copy*** of the oprand."
   ],
   "cell_type": "markdown",
   "metadata": {}
  },
  {
   "cell_type": "code",
   "execution_count": null,
   "metadata": {},
   "outputs": [],
   "source": [
    "a = [1,2,3]\n",
    "print(\"list a*3\", a*3)\n",
    "print(\"list a: \", a) # Doesn't change the original sequence\n",
    "\n",
    "b = [4, 5, 6]\n",
    "print(\"list a+b: \", a+b)"
   ]
  },
  {
   "source": [
    "## Sorting\n",
    "We can use a method of `list` class or a built-in function to sort a list\n",
    "- [`list.sort()`](https://docs.python.org/3/library/stdtypes.html?highlight=list.sort#list.sort)\n",
    "- [`sorted()`](https://docs.python.org/3/library/functions.html?highlight=hash#sorted)\n",
    "\n",
    "### Thinking Question: `list.sort()` vs. `sorted()`\n",
    "Looking at the API, what are the differences?"
   ],
   "cell_type": "markdown",
   "metadata": {}
  },
  {
   "cell_type": "code",
   "execution_count": 31,
   "metadata": {},
   "outputs": [],
   "source": [
    "# Try it yourself\n",
    "numbers = [1, 7, 6, 5, 9, 11, 20, 88, 3, 15, 0]"
   ]
  }
 ]
}