{
 "cells": [
  {
   "cell_type": "markdown",
   "metadata": {},
   "source": [
    "# \\[PY02\\] Introduction to Python Programming\n",
    "\n",
    "## Sequences: Lists, Tuples and dictionaries"
   ]
  },
  {
   "cell_type": "markdown",
   "metadata": {},
   "source": [
    "**Author:** Zhaoxuan \"Tony\" Wu, Head of Science (20/21), UCL DSS\n",
    "\n",
    "**Updated by:** Philip Wilkinson, Head of Science (21/22), UCL DSS\n",
    "\n",
    "**Date:** 04 Sep 2021\n",
    "\n",
    "***Proudly presented by the UCL Data Science Society***"
   ]
  },
  {
   "cell_type": "markdown",
   "metadata": {},
   "source": [
    "<b> Acknowledgement: </b> The content of this workshop is inspired by Fluent Python, 2nd Edition by Ramalho"
   ]
  },
  {
   "cell_type": "markdown",
   "metadata": {},
   "source": [
    "In this workshop you will be introduced to three key data structures in Python:\n",
    "\n",
    "1) [List](#List)\n",
    "\n",
    "2) [Tuple](#Tuple)\n",
    "\n",
    "3) [Dictionary](#Dictionary)\n",
    "\n",
    "For this, we will take a closer look into the methods, arrtibutes, their usage and some implementation details of these structures. This should provide you with a thorough introduction into these data structures. even if you are familier with the data structures, the workshop might be able to give you some useful insight into why things are done in a certain way or learning a new method that you could use in your own implementation"
   ]
  },
  {
   "cell_type": "markdown",
   "metadata": {},
   "source": [
    "In this workshop, we will be introduced the data structure `sequence` in Python and two examples: `list` and `tuple`. We will take a closer look into the methods provided, attributes, the APIs, the usage and some implementation details into these data structures, which should provide you with a thorough introduction to `list` and `tuple`. Even if you are familiar with the data structures, this workshop might be able to give you some insightful explanation of why things are done in some certain ways."
   ]
  },
  {
   "cell_type": "markdown",
   "metadata": {},
   "source": [
    "## Sequence\n",
    "\n",
    "The Python standard library offers a rich selection of sequence types implemented in C.\n",
    "\n",
    "### Container vs Flat\n",
    "\n",
    "#### Container Sequence\n",
    "Sequences that hold items of different types, including nested container. \n",
    "\n",
    "- `list`\n",
    "- `tuple`\n",
    "- `collections.deque`\n",
    "\n",
    "> It holds ***references*** to the objects it contains, which might be of ***any type***\n",
    "\n",
    "#### Flat Sequence\n",
    "Squences that hold items of one simple types.\n",
    "\n",
    "- `str`\n",
    "- `bytes`\n",
    "- `bytearray`\n",
    "- `memoryview`\n",
    "- `array.array`\n",
    "\n",
    "> It holds the ***value*** of ites contents in its own memory space, and not as distinct objects.\n",
    "\n",
    "<img src=\"assets/container.png\">\n",
    "\n",
    "### Mutability\n",
    "\n",
    "We can also view the sequences from a mutable vs immutable view.\n",
    "\n",
    "#### Mutable Sequences\n",
    "The contents stored in the sequences of this such can be changed after these sequences are created.\n",
    "\n",
    "- `list`\n",
    "- `bytearray`\n",
    "- `array.array`\n",
    "- `collections.deque`\n",
    "- `memoryview`\n",
    "\n",
    "#### Immutable Sequences\n",
    "\n",
    "The contents stored in the sequences of this such ***cannot*** be changed after being created.\n",
    "\n",
    "- `tuple`\n",
    "- `str`\n",
    "- `bytes`\n",
    "\n",
    "<img src=\"assets/mutable.png\">"
   ]
  },
  {
   "cell_type": "markdown",
   "metadata": {},
   "source": [
    "<a id = \"List\"><a>"
   ]
  },
  {
   "cell_type": "markdown",
   "metadata": {},
   "source": [
    "## List\n",
    "\n",
    "Lists can be used to store multiple items in a single variable and effectively act as you would expect a normal written list to behave. They are one of the 4 in-built data types in Python that can be used to store collections of data, alongside Tuples, Sets and dictionaries.\n",
    "\n",
    "They can simply be crated using square bracket notataion and placing values inside of them as follows:"
   ]
  },
  {
   "cell_type": "code",
   "execution_count": 19,
   "metadata": {},
   "outputs": [],
   "source": [
    "#create a list of Fruit\n",
    "fruit_list = [\"Apple\", \"Banana\", \"Peach\"]"
   ]
  },
  {
   "cell_type": "markdown",
   "metadata": {},
   "source": [
    "We can then check what this list contains by simply printing out the contents of the list:"
   ]
  },
  {
   "cell_type": "code",
   "execution_count": 8,
   "metadata": {},
   "outputs": [
    {
     "name": "stdout",
     "output_type": "stream",
     "text": [
      "['Apple', 'Bananna', 'Peach']\n"
     ]
    }
   ],
   "source": [
    "print(fruit_list)"
   ]
  },
  {
   "cell_type": "markdown",
   "metadata": {},
   "source": [
    "As we can see, the variable `Fruit_List` now contains all the Fruits that we initially put in it. \n",
    "\n",
    "An alternative method of construction can be done uing the list constructor method as follows:"
   ]
  },
  {
   "cell_type": "code",
   "execution_count": 9,
   "metadata": {},
   "outputs": [
    {
     "name": "stdout",
     "output_type": "stream",
     "text": [
      "['Potato', 'Courgette', 'Broccoli']\n"
     ]
    }
   ],
   "source": [
    "#use the list constructed\n",
    "vegetable_list = list([\"Potato\", \"Courgette\", \"Broccoli\"])\n",
    "#print out the result\n",
    "print(vegetable_list)\n"
   ]
  },
  {
   "cell_type": "markdown",
   "metadata": {},
   "source": [
    "The key thing here is the use of square brackets in both methods as without this a list will not be created. For example the following piece of code will not work:"
   ]
  },
  {
   "cell_type": "code",
   "execution_count": 4,
   "metadata": {},
   "outputs": [
    {
     "ename": "TypeError",
     "evalue": "list expected at most 1 argument, got 3",
     "output_type": "error",
     "traceback": [
      "\u001b[1;31m---------------------------------------------------------------------------\u001b[0m",
      "\u001b[1;31mTypeError\u001b[0m                                 Traceback (most recent call last)",
      "\u001b[1;32m<ipython-input-4-f0ad7b778010>\u001b[0m in \u001b[0;36m<module>\u001b[1;34m\u001b[0m\n\u001b[1;32m----> 1\u001b[1;33m \u001b[0mwrong_list\u001b[0m \u001b[1;33m=\u001b[0m \u001b[0mlist\u001b[0m\u001b[1;33m(\u001b[0m\u001b[1;36m1\u001b[0m\u001b[1;33m,\u001b[0m\u001b[1;36m2\u001b[0m\u001b[1;33m,\u001b[0m\u001b[1;36m3\u001b[0m\u001b[1;33m)\u001b[0m\u001b[1;33m\u001b[0m\u001b[1;33m\u001b[0m\u001b[0m\n\u001b[0m",
      "\u001b[1;31mTypeError\u001b[0m: list expected at most 1 argument, got 3"
     ]
    }
   ],
   "source": [
    "wrong_list = list(1,2,3)"
   ]
  },
  {
   "cell_type": "markdown",
   "metadata": {},
   "source": [
    "We can see here that this printed out a `TypeError`, noting that it said the list function expected at most 1 argument, got 3. This is because square brackets were not used to tell it that all the items were part of a single list. \n",
    "\n",
    "Nevetheless, although we previously used strings in all correct specifications of the list as above, lists can accept all datatypes that we would expected to use:"
   ]
  },
  {
   "cell_type": "code",
   "execution_count": 5,
   "metadata": {},
   "outputs": [
    {
     "name": "stdout",
     "output_type": "stream",
     "text": [
      "[1, 2, 3, 4]\n",
      "[1.2, 2.3, 4.5, 6.8]\n"
     ]
    }
   ],
   "source": [
    "#create a list of just numbers\n",
    "num_list = [1, 2, 3, 4]\n",
    "\n",
    "#create a list of just floats\n",
    "float_list = [1.2, 2.3, 4.5, 6.8]\n",
    "\n",
    "print(num_list)\n",
    "print(float_list)"
   ]
  },
  {
   "cell_type": "markdown",
   "metadata": {},
   "source": [
    "And they can take multiple different datatypes within the same list as well, even lists within lists:"
   ]
  },
  {
   "cell_type": "code",
   "execution_count": 6,
   "metadata": {},
   "outputs": [
    {
     "name": "stdout",
     "output_type": "stream",
     "text": [
      "['Hello', 3, 'Cheese', 6.2, [1, 2, 3]]\n"
     ]
    }
   ],
   "source": [
    "#different list\n",
    "dif_list = [\"Hello\", 3, \"Cheese\", 6.2, [1,2,3]]\n",
    "\n",
    "#print the result\n",
    "print(dif_list)\n"
   ]
  },
  {
   "cell_type": "markdown",
   "metadata": {},
   "source": [
    "an important part of lists is that they are ordered collections of data, and that the values within each list are changeable and duplicate values are allowed.\n",
    "\n",
    "Firstly, in terms of order, we say lists are ordered in that they have a clearly defined order and that order will not change unless we tell it to change or be changed. If you decide to add things to list, they will be placed at the end for example.\n",
    "\n",
    "This order allows us to access values from the list that we know are in a set position of that order. For example, if for our fruit list we ordered them by where we would pass them on our weekly shopping trip and we know the first fruit will appear first but not what it is, we can access this using the index of the list. Of course, since this is Python, everything beginds with an index of 0, so that we can access the first item with the following notation:"
   ]
  },
  {
   "cell_type": "code",
   "execution_count": 10,
   "metadata": {},
   "outputs": [
    {
     "name": "stdout",
     "output_type": "stream",
     "text": [
      "Apple\n"
     ]
    }
   ],
   "source": [
    "first_fruit  = fruit_list[0]\n",
    "print(first_fruit)"
   ]
  },
  {
   "cell_type": "markdown",
   "metadata": {},
   "source": [
    "If this is the case, can anyone tell me how to then access the second vegetable from the `vegetable_list`:"
   ]
  },
  {
   "cell_type": "code",
   "execution_count": null,
   "metadata": {},
   "outputs": [],
   "source": [
    "second_vegetable = \n",
    "\n",
    "print(second_vegetable)"
   ]
  },
  {
   "cell_type": "markdown",
   "metadata": {},
   "source": [
    "For this, anything that resolves to a number can be used to access something from a list, as long as that index belongs in the list you are trying to access. So in our example of fruit list we only have three fruit, but if you tried to use the index of 3 you would get:"
   ]
  },
  {
   "cell_type": "code",
   "execution_count": 11,
   "metadata": {},
   "outputs": [
    {
     "ename": "IndexError",
     "evalue": "list index out of range",
     "output_type": "error",
     "traceback": [
      "\u001b[1;31m---------------------------------------------------------------------------\u001b[0m",
      "\u001b[1;31mIndexError\u001b[0m                                Traceback (most recent call last)",
      "\u001b[1;32m<ipython-input-11-a6f380e4f0c0>\u001b[0m in \u001b[0;36m<module>\u001b[1;34m\u001b[0m\n\u001b[1;32m----> 1\u001b[1;33m \u001b[0mthird_fruit\u001b[0m \u001b[1;33m=\u001b[0m \u001b[0mfruit_list\u001b[0m\u001b[1;33m[\u001b[0m\u001b[1;36m3\u001b[0m\u001b[1;33m]\u001b[0m\u001b[1;33m\u001b[0m\u001b[1;33m\u001b[0m\u001b[0m\n\u001b[0m",
      "\u001b[1;31mIndexError\u001b[0m: list index out of range"
     ]
    }
   ],
   "source": [
    "third_fruit = fruit_list[3]"
   ]
  },
  {
   "cell_type": "markdown",
   "metadata": {},
   "source": [
    "An index error, as the list index is out of the range. This is another informative error as if you get this error it tells you that your list is not as long as you think it is or something is missing from your list.\n",
    "\n",
    "Something interesting about this however is that not only can we count forward, we can also count back over lists. This means that not only can we access lists from the beginning using indexes we can also access lists from the end. For example, if you created a list that went up in scores but you were interested in the second largest score, you could access this as follows:"
   ]
  },
  {
   "cell_type": "code",
   "execution_count": 12,
   "metadata": {},
   "outputs": [
    {
     "name": "stdout",
     "output_type": "stream",
     "text": [
      "91\n"
     ]
    }
   ],
   "source": [
    "#create a list of scores\n",
    "scores = [12,42,62,65,73,84,89,91,94]\n",
    "\n",
    "#extract the second highest score\n",
    "second_highest_score = scores[-2]\n",
    "\n",
    "print(second_highest_score)"
   ]
  },
  {
   "cell_type": "markdown",
   "metadata": {},
   "source": [
    "Of course, in doing so instead of also starting at 0, which would create confusion as to whether you wanted to access the first or last entry of the list, you start from -1 and then increase the further from the end you want to access.\n",
    "\n",
    "Finally, in terms of using indexes to access things in a list, you can also access more than one element at a time using a slice."
   ]
  },
  {
   "cell_type": "code",
   "execution_count": 14,
   "metadata": {},
   "outputs": [
    {
     "name": "stdout",
     "output_type": "stream",
     "text": [
      "[42, 62, 65, 73]\n",
      "[42]\n",
      "[84, 89, 91, 94]\n",
      "[89, 91, 94]\n"
     ]
    }
   ],
   "source": [
    "#second lowest to fifth lowest\n",
    "print(scores[1:5])\n",
    "\n",
    "#print second lowest\n",
    "print(scores[1:2])\n",
    "\n",
    "#print the fifth lowest to the highest\n",
    "print(scores[5:])\n",
    "\n",
    "#print the third highest to the highest\n",
    "print(scores[-3:])"
   ]
  },
  {
   "cell_type": "markdown",
   "metadata": {},
   "source": [
    "Note, the syntax for using a slice is: `list[start index: end index]` where it is important to note that the end index is not included in the slice. This is why printing the second lowest using `scores[1:2]` only prints 42.\n",
    "\n",
    "It is also important to note that a slice will always return a list, even if it is just containing one thing.\n",
    "\n",
    "Finally, in terms of accessing things from lists, what if we know what we want to access from a list but we don't know where it was in the list? If we knew we had Bannana in the fruit list but we forgot the order of it in the list, we could find that using the index method:"
   ]
  },
  {
   "cell_type": "code",
   "execution_count": 21,
   "metadata": {},
   "outputs": [
    {
     "name": "stdout",
     "output_type": "stream",
     "text": [
      "1\n"
     ]
    }
   ],
   "source": [
    "#find the index of banan\n",
    "print(fruit_list.index(\"Banana\"))"
   ]
  },
  {
   "cell_type": "markdown",
   "metadata": {},
   "source": [
    "This can be useful if you forget the location of your item, but also if you have lists where the order is related to each other. For example, if the scores list was linked to a list of names, you could find the index of the name and then use that to access their score from another list.\n",
    "\n",
    "The only issue with this is that if you mispel the item or the item is not in the list, the method will throw an error and will stop the code from running:"
   ]
  },
  {
   "cell_type": "code",
   "execution_count": 22,
   "metadata": {},
   "outputs": [
    {
     "ename": "ValueError",
     "evalue": "'Orange' is not in list",
     "output_type": "error",
     "traceback": [
      "\u001b[1;31m---------------------------------------------------------------------------\u001b[0m",
      "\u001b[1;31mValueError\u001b[0m                                Traceback (most recent call last)",
      "\u001b[1;32m<ipython-input-22-abf6e0b42c0d>\u001b[0m in \u001b[0;36m<module>\u001b[1;34m\u001b[0m\n\u001b[1;32m----> 1\u001b[1;33m \u001b[0mprint\u001b[0m\u001b[1;33m(\u001b[0m\u001b[0mfruit_list\u001b[0m\u001b[1;33m.\u001b[0m\u001b[0mindex\u001b[0m\u001b[1;33m(\u001b[0m\u001b[1;34m\"Orange\"\u001b[0m\u001b[1;33m)\u001b[0m\u001b[1;33m)\u001b[0m\u001b[1;33m\u001b[0m\u001b[1;33m\u001b[0m\u001b[0m\n\u001b[0m",
      "\u001b[1;31mValueError\u001b[0m: 'Orange' is not in list"
     ]
    }
   ],
   "source": [
    "print(fruit_list.index(\"Orange\"))"
   ]
  },
  {
   "cell_type": "markdown",
   "metadata": {},
   "source": [
    "For this, there are many ways around this but one simple way is to use an if/else statement that will be explained in later lectures. For now, this is done using:"
   ]
  },
  {
   "cell_type": "code",
   "execution_count": 24,
   "metadata": {},
   "outputs": [
    {
     "name": "stdout",
     "output_type": "stream",
     "text": [
      "Banana is at index: 1\n"
     ]
    }
   ],
   "source": [
    "if \"Banana\" in fruit_list:\n",
    "    print(\"Banana is at index:\", fruit_list.index(\"Banana\"))\n",
    "else:\n",
    "    print(\"Banana not in list\")"
   ]
  },
  {
   "cell_type": "markdown",
   "metadata": {},
   "source": [
    "Beyond just accessing what is in a list there are many other things lists are good at, including multiple methods we can use in conjunction with lists to make them more useful.\n",
    "\n",
    "One of the more important things about lists is that they are \"mutable\" which simply means that items within a list can be changed, including changing individual results, inserting new things into the middle of lists or even sorting them:"
   ]
  },
  {
   "cell_type": "code",
   "execution_count": 29,
   "metadata": {},
   "outputs": [
    {
     "name": "stdout",
     "output_type": "stream",
     "text": [
      "Original score: 42\n",
      "Changed score: 52\n"
     ]
    }
   ],
   "source": [
    "scores = [12,42,62,65,73,84,89,91,94]\n",
    "#we can change the score at the second index\n",
    "\n",
    "#print the second lowest score\n",
    "print(\"Original score:\", scores[1])\n",
    "\n",
    "#reassign the score\n",
    "scores[1] = 52\n",
    "\n",
    "#check the reassignment\n",
    "print(\"Changed score:\", scores[1])"
   ]
  },
  {
   "cell_type": "code",
   "execution_count": 30,
   "metadata": {},
   "outputs": [
    {
     "name": "stdout",
     "output_type": "stream",
     "text": [
      "Original scores [12, 52, 62, 65, 73, 84, 89, 91, 94]\n",
      "New scores [12, 52, 62, 65, 73, 84, 89, 91, 94, 67]\n",
      "Newer scores [12, 52, 62, 48, 65, 73, 84, 89, 91, 94, 67]\n"
     ]
    }
   ],
   "source": [
    "#we can add a new score at the end using the append function\n",
    "print(\"Original scores\", scores)\n",
    "\n",
    "#add new score\n",
    "scores.append(67)\n",
    "\n",
    "#print the new scores\n",
    "print(\"New scores\", scores)\n",
    "\n",
    "#or add new scores in a specific position\n",
    "scores.insert(3, 48)\n",
    "\n",
    "print(\"Newer scores\", scores)"
   ]
  },
  {
   "cell_type": "code",
   "execution_count": 31,
   "metadata": {},
   "outputs": [
    {
     "name": "stdout",
     "output_type": "stream",
     "text": [
      "Original scores [12, 52, 62, 48, 65, 73, 84, 89, 91, 94, 67]\n",
      "New scores [12, 52, 62, 48, 65, 73, 84, 91, 94, 67]\n"
     ]
    }
   ],
   "source": [
    "#we can remove a score from the list\n",
    "print(\"Original scores\", scores)\n",
    "\n",
    "#remove the score of 89\n",
    "scores.remove(89)\n",
    "\n",
    "#print the new score\n",
    "print(\"New scores\", scores)\n",
    "\n",
    "#alternative methods for removal include:\n",
    "\n",
    "# the pop() method removes the specified index\n",
    "# scores.pop(1)\n",
    "\n",
    "# If you do not specify an index the pop() method removes the last item\n",
    "# scores.pop()\n",
    "\n",
    "# we can also completely clear the list\n",
    "# scores.clear()"
   ]
  },
  {
   "cell_type": "markdown",
   "metadata": {},
   "source": [
    "At this point, after changing scores, adding new ones and removing some, the list of scores is no longer the same to what we had it before. This includes how long it is and the fact that scores are no longer in smallest to larger order. \n",
    "\n",
    "We can rectify the first issue by finding the length of the list using the `len()` function, which tells us how long the list is:"
   ]
  },
  {
   "cell_type": "code",
   "execution_count": 32,
   "metadata": {},
   "outputs": [
    {
     "name": "stdout",
     "output_type": "stream",
     "text": [
      "10\n"
     ]
    }
   ],
   "source": [
    "print(len(scores))"
   ]
  },
  {
   "cell_type": "markdown",
   "metadata": {},
   "source": [
    "So now we know we have ten scores, but they are no longer in the same order as they were before from smallest to largest. Again, we can rectify this using either the `sort()` function or the `sorted()` method:"
   ]
  },
  {
   "cell_type": "code",
   "execution_count": 35,
   "metadata": {},
   "outputs": [
    {
     "name": "stdout",
     "output_type": "stream",
     "text": [
      "[12, 48, 52, 62, 65, 67, 73, 84, 91, 94]\n",
      "[12, 48, 52, 62, 65, 67, 73, 84, 91, 94]\n",
      "[12, 48, 52, 62, 65, 67, 73, 84, 91, 94]\n"
     ]
    },
    {
     "data": {
      "text/plain": [
       "[94, 91, 84, 73, 67, 65, 62, 52, 48, 12]"
      ]
     },
     "execution_count": 35,
     "metadata": {},
     "output_type": "execute_result"
    }
   ],
   "source": [
    "#print current scores\n",
    "print(scores)\n",
    "\n",
    "#we can assign the new sorted list to a new list as follows:\n",
    "new_sorted_scores = sorted(scores)\n",
    "print(new_sorted_scores)\n",
    "\n",
    "#or we can sort the list itself\n",
    "scores.sort()\n",
    "print(scores)\n",
    "\n",
    "#we can even sort it in descending order\n",
    "scores.sort(reverse = True)\n",
    "print(scores)\n",
    "#or by using scores.reverse()"
   ]
  },
  {
   "cell_type": "markdown",
   "metadata": {},
   "source": [
    "Finally, we can add lists together by simply using the add method, or using the `extend` method to add to an existing list:"
   ]
  },
  {
   "cell_type": "code",
   "execution_count": 37,
   "metadata": {},
   "outputs": [
    {
     "name": "stdout",
     "output_type": "stream",
     "text": [
      "['Peter', 'Geneva', 'John', 'Katie', 'Suzie', 'Scott']\n",
      "['Peter', 'Geneva', 'John', 'Katie', 'Suzie', 'Scott']\n"
     ]
    }
   ],
   "source": [
    "Names1 = [\"Peter\", \"Geneva\", \"John\"]\n",
    "Names2 = [\"Katie\", \"Suzie\", \"Scott\"]\n",
    "\n",
    "added_names = Names1 + Names2\n",
    "print(added_names)\n",
    "\n",
    "Names1.extend(Names2)\n",
    "print(Names1)"
   ]
  },
  {
   "cell_type": "markdown",
   "metadata": {},
   "source": [
    "<a id = \"Tuple\"></a>"
   ]
  },
  {
   "cell_type": "markdown",
   "metadata": {},
   "source": [
    "## Tuples\n",
    "\n",
    "Tuples are similar to lists in that they are used to store multiple items but it is primarily different in that they are written with round brakcets and that they are unchangeable. \n",
    "\n",
    "As such, they can be created as follows:"
   ]
  },
  {
   "cell_type": "code",
   "execution_count": 34,
   "metadata": {},
   "outputs": [
    {
     "name": "stdout",
     "output_type": "stream",
     "text": [
      "('Ford', 'Hyundai', 'Toyata', 'Kia')\n",
      "<class 'tuple'>\n"
     ]
    }
   ],
   "source": [
    "new_tuple = (\"Ford\", \"Hyundai\", \"Toyata\", \"Kia\")\n",
    "\n",
    "print(new_tuple)\n",
    "print(type(new_tuple))"
   ]
  },
  {
   "cell_type": "markdown",
   "metadata": {},
   "source": [
    "Like lists however they are ordered and allow duplicate values. This means that we can access information from tuples in the same way we would with lists using the index:"
   ]
  },
  {
   "cell_type": "code",
   "execution_count": 38,
   "metadata": {},
   "outputs": [
    {
     "name": "stdout",
     "output_type": "stream",
     "text": [
      "Ford\n",
      "Kia\n",
      "('Hyundai', 'Toyata')\n",
      "('Hyundai', 'Toyata', 'Kia')\n",
      "('Ford', 'Hyundai', 'Toyata')\n"
     ]
    }
   ],
   "source": [
    "#get the first item from the tuple\n",
    "print(new_tuple[0])\n",
    "\n",
    "#get the last item from the tuple\n",
    "print(new_tuple[-1])\n",
    "\n",
    "#get the second and third from the tuple\n",
    "print(new_tuple[1:3])\n",
    "\n",
    "#get all from the first index\n",
    "print(new_tuple[1:])\n",
    "\n",
    "#get all until the fourth one\n",
    "print(new_tuple[:3])"
   ]
  },
  {
   "cell_type": "markdown",
   "metadata": {},
   "source": [
    "Since they are indexed, then just like a list, we cna have duplicate values in them:"
   ]
  },
  {
   "cell_type": "code",
   "execution_count": 36,
   "metadata": {},
   "outputs": [
    {
     "name": "stdout",
     "output_type": "stream",
     "text": [
      "Ford\n",
      "Ford\n",
      "('Ford', 'Hyundai', 'Toyata', 'Kia')\n"
     ]
    }
   ],
   "source": [
    "new_tuple2 = (\"Ford\", \"Hyundai\", \"Toyota\", \"Kia\", \"Ford\")\n",
    "\n",
    "#print for\n",
    "print(new_tuple2[0])\n",
    "print(new_tuple2[-1])\n",
    "print(new_tuple)"
   ]
  },
  {
   "cell_type": "markdown",
   "metadata": {},
   "source": [
    "The only one way to change a tuple, given that they are immutable, is that they can be converted into lists, updated and converted back to a tuple"
   ]
  },
  {
   "cell_type": "code",
   "execution_count": null,
   "metadata": {},
   "outputs": [],
   "source": [
    "print(new_tuple)\n",
    "\n",
    "tuple_list = list(new_tuple)\n",
    "\n",
    "tuple_list.append(\"Ford\")\n",
    "\n",
    "new_tuple = tuple(tuple_list)\n",
    "\n",
    "print(new_tuple)"
   ]
  },
  {
   "cell_type": "markdown",
   "metadata": {},
   "source": [
    "The only other way to change a tuple is to join two tuples together or multiple them. This follows the same rules as lists and strings:"
   ]
  },
  {
   "cell_type": "code",
   "execution_count": 40,
   "metadata": {},
   "outputs": [
    {
     "name": "stdout",
     "output_type": "stream",
     "text": [
      "('a', 'b', 'c', 1, 2, 3)\n",
      "('a', 'b', 'c', 'a', 'b', 'c')\n"
     ]
    }
   ],
   "source": [
    "tuple1 = (\"a\", \"b\", \"c\")\n",
    "tuple2 = (1,2,3)\n",
    "\n",
    "tuple3 = tuple1 + tuple2\n",
    "print(tuple3)\n",
    "\n",
    "tuple4 = tuple1*2\n",
    "print(tuple4)"
   ]
  },
  {
   "cell_type": "code",
   "execution_count": 44,
   "metadata": {},
   "outputs": [
    {
     "name": "stdout",
     "output_type": "stream",
     "text": [
      "3\n",
      "2\n",
      "1\n"
     ]
    }
   ],
   "source": [
    "print(len(tuple1))\n",
    "\n",
    "print(tuple4.count(\"a\"))\n",
    "\n",
    "print(tuple4.index(\"b\"))"
   ]
  },
  {
   "cell_type": "markdown",
   "metadata": {},
   "source": [
    "<a id = \"sets\"></a>"
   ]
  },
  {
   "cell_type": "markdown",
   "metadata": {},
   "source": [
    "## Sets\n",
    "\n",
    "Sets are another data structure that you can use to store multiple items in a single variable, just like lists. However there are four main differences:\n",
    "- Sets are created using curly brackets or using the set() constructor\n",
    "- They are unordered\n",
    "- They are unindexed \n",
    "- They cannot allow duplicate values\n",
    "\n",
    "This is important for how they are used. For example, lets create a set of fruits:"
   ]
  },
  {
   "cell_type": "code",
   "execution_count": 18,
   "metadata": {},
   "outputs": [
    {
     "name": "stdout",
     "output_type": "stream",
     "text": [
      "{'banana', 'cherry', 'apple'}\n",
      "{'potato', 'aubergine', 'courgette'}\n"
     ]
    }
   ],
   "source": [
    "#create a set using curly brackets\n",
    "fruits = {\"apple\", \"banana\", \"cherry\"}\n",
    "\n",
    "#create a set using the set constructor\n",
    "vegetables = set((\"courgette\", \"potato\", \"aubergine\"))\n",
    "\n",
    "#print the results\n",
    "print(fruits)\n",
    "print(vegetables)"
   ]
  },
  {
   "cell_type": "markdown",
   "metadata": {},
   "source": [
    "From this we can see that we created the set using the `{}` notation. We can also see that when printing the set, it did not appear in the same order as what the data was inputted. This relates to the fact that it is unordered so the items in a set will not always appear in the same order you see them. "
   ]
  },
  {
   "cell_type": "markdown",
   "metadata": {},
   "source": [
    "This then brings us onto the fact that they are unindexed. The fact that they are unindexed means that they cannot be accessed in the same way that they would be with a list because we have no guaranteed that they would stay in the same position. Thus, there are two main ways to check whether an item is in the set or not:"
   ]
  },
  {
   "cell_type": "code",
   "execution_count": 24,
   "metadata": {},
   "outputs": [
    {
     "name": "stdout",
     "output_type": "stream",
     "text": [
      "banana\n",
      "cherry\n",
      "apple\n",
      "True\n"
     ]
    }
   ],
   "source": [
    "#use a loop to iteratre over the set\n",
    "for x in fruits:\n",
    "    print(x)\n",
    "    \n",
    "#or check whether the fruit you want is in the set\n",
    "print(\"apple\" in fruits)\n",
    "#which acts the same way as if it were in a list"
   ]
  },
  {
   "cell_type": "markdown",
   "metadata": {},
   "source": [
    "What this means is that while lists are changeable, sets are not, because we cannot access thing in the same way that we would otherwise. Instead, the only way to change the set is to add or remove items:"
   ]
  },
  {
   "cell_type": "code",
   "execution_count": 25,
   "metadata": {},
   "outputs": [
    {
     "name": "stdout",
     "output_type": "stream",
     "text": [
      "{'banana', 'cherry', 'apple'}\n",
      "{'mango', 'apple', 'papaya', 'pineapple', 'cherry', 'banana'}\n",
      "{'courgette', 'potato', 'aubergine', 'celery', 'onion'}\n"
     ]
    }
   ],
   "source": [
    "#we can add using the add method\n",
    "fruits.add(\"cherry\")\n",
    "\n",
    "#check the updated set\n",
    "print(fruits)\n",
    "\n",
    "#we can add another set to the original set\n",
    "tropical = {\"pineapple\", \"mango\", \"papaya\"}\n",
    "fruits.update(tropical)\n",
    "\n",
    "#print the updated set\n",
    "print(fruits)\n",
    "\n",
    "#we can also use the update method to add any iterable object (tuples, lists, dictionaries etc.)\n",
    "new_veg = [\"onion\", \"celery\"]\n",
    "vegetables.update(new_veg)\n",
    "\n",
    "print(vegetables)"
   ]
  },
  {
   "cell_type": "markdown",
   "metadata": {},
   "source": [
    "There are also several ways of removing items from sets as well:"
   ]
  },
  {
   "cell_type": "code",
   "execution_count": 26,
   "metadata": {},
   "outputs": [
    {
     "name": "stdout",
     "output_type": "stream",
     "text": [
      "{'mango', 'papaya', 'pineapple', 'cherry', 'banana'}\n",
      "{'papaya', 'pineapple', 'cherry', 'banana'}\n",
      "papaya\n",
      "{'pineapple', 'cherry', 'banana'}\n",
      "set()\n"
     ]
    },
    {
     "ename": "NameError",
     "evalue": "name 'fruits' is not defined",
     "output_type": "error",
     "traceback": [
      "\u001b[1;31m---------------------------------------------------------------------------\u001b[0m",
      "\u001b[1;31mNameError\u001b[0m                                 Traceback (most recent call last)",
      "\u001b[1;32m<ipython-input-26-3d1a273c2bcb>\u001b[0m in \u001b[0;36m<module>\u001b[1;34m\u001b[0m\n\u001b[0;32m     26\u001b[0m \u001b[1;32mdel\u001b[0m \u001b[0mfruits\u001b[0m\u001b[1;33m\u001b[0m\u001b[1;33m\u001b[0m\u001b[0m\n\u001b[0;32m     27\u001b[0m \u001b[1;33m\u001b[0m\u001b[0m\n\u001b[1;32m---> 28\u001b[1;33m \u001b[0mprint\u001b[0m\u001b[1;33m(\u001b[0m\u001b[0mfruits\u001b[0m\u001b[1;33m)\u001b[0m\u001b[1;33m\u001b[0m\u001b[1;33m\u001b[0m\u001b[0m\n\u001b[0m",
      "\u001b[1;31mNameError\u001b[0m: name 'fruits' is not defined"
     ]
    }
   ],
   "source": [
    "#we can use the remove method\n",
    "fruits.remove(\"apple\")\n",
    "\n",
    "print(fruits)\n",
    "#the issue with this is if the item does not exist remove() will raise an error\n",
    "\n",
    "#or the discard method\n",
    "fruits.discard(\"mango\")\n",
    "#this does not raise an error\n",
    "\n",
    "print(fruits)\n",
    "\n",
    "#finally we can also use the pop method\n",
    "#but since this is unordered it will remove the last item\n",
    "#and we also don't know which item will be removed\n",
    "fruit_removed = fruits.pop()\n",
    "\n",
    "print(fruit_removed)\n",
    "print(fruits)\n",
    "\n",
    "#finally we can clear the set using teh cleaer method\n",
    "fruits.clear()\n",
    "print(fruits)\n",
    "\n",
    "#or delete the set completely\n",
    "del fruits\n",
    "\n",
    "print(fruits)"
   ]
  },
  {
   "cell_type": "markdown",
   "metadata": {},
   "source": [
    "Finally, the last important thing about sets is that they cannot contain duplicate values. This is beneficial when we don't want to contain duplicates like names, and can be used to find the unique values contained within given information. If we try to add duplicates:"
   ]
  },
  {
   "cell_type": "code",
   "execution_count": 27,
   "metadata": {},
   "outputs": [
    {
     "name": "stdout",
     "output_type": "stream",
     "text": [
      "{'Volvo', 'Ford', 'Hyundai', 'Toyota', 'Chevrolet'}\n"
     ]
    }
   ],
   "source": [
    "cars = {\"Ford\", \"Chevrolet\", \"Toyota\", \"Hyundai\", \"Volvo\", \"Ford\"}\n",
    "\n",
    "print(cars)"
   ]
  },
  {
   "cell_type": "markdown",
   "metadata": {},
   "source": [
    "It will simply remove the duplicate from the set and will show only unique items. \n",
    "\n",
    "This has important implications for when we want to join two sets and there are multiple methods of doing so:"
   ]
  },
  {
   "cell_type": "code",
   "execution_count": 28,
   "metadata": {},
   "outputs": [
    {
     "name": "stdout",
     "output_type": "stream",
     "text": [
      "{1, 2, 3, 'one', 'two', 'three'}\n",
      "{1, 2, 3, 'one', 'two', 'three'}\n"
     ]
    }
   ],
   "source": [
    "set1 = {1, 2, 3}\n",
    "set2 = {\"one\", \"two\", \"three\"}\n",
    "\n",
    "#we can use union to return a new set with all items from both sets\n",
    "set3 = set1.union(set2)\n",
    "print(set3)\n",
    "\n",
    "#or we can use update to insert items in set2 into set 1\n",
    "set1.update(set2)\n",
    "print(set1)"
   ]
  },
  {
   "cell_type": "markdown",
   "metadata": {},
   "source": [
    "In merging, we can also make sure we keep only the duplicates:"
   ]
  },
  {
   "cell_type": "code",
   "execution_count": 31,
   "metadata": {},
   "outputs": [
    {
     "name": "stdout",
     "output_type": "stream",
     "text": [
      "{'apple'}\n",
      "{'apple'}\n"
     ]
    }
   ],
   "source": [
    "fruits = {\"apple\", \"banana\", \"cherry\"}\n",
    "companies = {\"google\", \"microsoft\", \"apple\"}\n",
    "\n",
    "#y creating a new set that contains only the duplicates\n",
    "both = fruits.intersection(companies)\n",
    "\n",
    "print(both)\n",
    "\n",
    "#or keep only items that are present in both sets\n",
    "fruits.intersection_update(companies)\n",
    "\n",
    "print(fruits)"
   ]
  },
  {
   "cell_type": "markdown",
   "metadata": {},
   "source": [
    "Of we can do the reverse and extract any by the duplicates:"
   ]
  },
  {
   "cell_type": "code",
   "execution_count": 32,
   "metadata": {},
   "outputs": [
    {
     "name": "stdout",
     "output_type": "stream",
     "text": [
      "{'cherry', 'google', 'microsoft', 'banana'}\n",
      "{'cherry', 'google', 'microsoft', 'banana'}\n"
     ]
    }
   ],
   "source": [
    "fruits = {\"apple\", \"banana\", \"cherry\"}\n",
    "companies = {\"google\", \"microsoft\", \"apple\"}\n",
    "\n",
    "#y creating a new set that contains no duplicate\n",
    "both = fruits.symmetric_difference(companies)\n",
    "\n",
    "print(both)\n",
    "\n",
    "#or keep only items that are present in both sets\n",
    "fruits.symmetric_difference_update(companies)\n",
    "\n",
    "print(fruits)"
   ]
  },
  {
   "cell_type": "markdown",
   "metadata": {},
   "source": [
    "Thus we can see that sets are unique in that they are unordered, unindexed and do not allow duplicate values. The latter is an important characteristic as they can be used when we want to extract only the unique items from something, rather than having multiple instances of it such as names, but cannot be used when we may want to retain a certain order within the dataset."
   ]
  },
  {
   "cell_type": "markdown",
   "metadata": {},
   "source": [
    "<a id = \"Dictionary\"></a>"
   ]
  },
  {
   "cell_type": "markdown",
   "metadata": {},
   "source": [
    "## Dictionaries\n",
    "\n",
    "Dictionaries are another data structure that you can use to store information, like the lists, tuples and sets already introduced. They are known as a collection which is ordered, changeable and does not allow duplicated. \n",
    "\n",
    "The primary difference between the previous data structures is that data is stored in key:value pairs and are written with curly brackets rather than square or normal brackets. We can create a dictionary as follows:"
   ]
  },
  {
   "cell_type": "code",
   "execution_count": 1,
   "metadata": {},
   "outputs": [
    {
     "name": "stdout",
     "output_type": "stream",
     "text": [
      "{'Name': 'Peter Jones', 'Age': 28, 'Occupation': 'Data Scientist'}\n"
     ]
    }
   ],
   "source": [
    "new_dict = {\"Name\":\"Peter Jones\",\n",
    "           \"Age\":28,\n",
    "           \"Occupation\":\"Data Scientist\"}\n",
    "\n",
    "print(new_dict)"
   ]
  },
  {
   "cell_type": "markdown",
   "metadata": {},
   "source": [
    "What we can see here is that we have the \"key\" which can be used to access the \"values\". For example, if we wanted to know the name of the person stored in this dictionary we can access it using the \"key\":"
   ]
  },
  {
   "cell_type": "code",
   "execution_count": 2,
   "metadata": {},
   "outputs": [
    {
     "name": "stdout",
     "output_type": "stream",
     "text": [
      "Peter Jones\n"
     ]
    }
   ],
   "source": [
    "#the first way is as we would with a list\n",
    "print(new_dict[\"Name\"])\n",
    "\n",
    "#however we can also use .get()\n",
    "print(new_dict.get(\"Name\"))\n",
    "\n",
    "#the difference between the two is that for get if the key\n",
    "#does not exist an error will not be triggered, while for \n",
    "#the first method an error will be\n",
    "#try for yourself:\n",
    "print(new_dict.get(\"colour\"))\n",
    "#print(new_dict[\"colour\"])"
   ]
  },
  {
   "cell_type": "markdown",
   "metadata": {},
   "source": [
    "Accessing information this way means that we can't have duplicates in the dataset as we wouldn't know what we would be accessing:"
   ]
  },
  {
   "cell_type": "code",
   "execution_count": 4,
   "metadata": {},
   "outputs": [
    {
     "name": "stdout",
     "output_type": "stream",
     "text": [
      "Jessica\n"
     ]
    }
   ],
   "source": [
    "second_dict = {\"Name\":\"William\",\n",
    "              \"Name\":\"Jessica\"}\n",
    "\n",
    "print(second_dict[\"Name\"])"
   ]
  },
  {
   "cell_type": "markdown",
   "metadata": {},
   "source": [
    "As we can see here we set two `\"Name\"` keys and when trying to access the information it only prints the second value, not the first. This is because the second key overwites the first key value.\n",
    "\n",
    "As with lists and set but unlike for tuples, dictionaries are mutable meaning that we can change, add or remove items after the dictionary has been created. We can do this in a similar way to lists and how we access individual items. For example:\n",
    "\n"
   ]
  },
  {
   "cell_type": "code",
   "execution_count": 9,
   "metadata": {},
   "outputs": [
    {
     "name": "stdout",
     "output_type": "stream",
     "text": [
      "2012\n",
      "2013\n",
      "{'Make': 'Ford', 'Model': 'Focus', 'year': 2013, 'Owner': 'Jake Hargreave'}\n",
      "{'Make': 'Ford', 'Model': 'Focus', 'year': 2013, 'Owner': 'Jake Hargreave', 'color': 'yellow'}\n"
     ]
    }
   ],
   "source": [
    "#create the dictionary\n",
    "car1 = {\"Make\":\"Ford\",\n",
    "       \"Model\":\"Focus\",\n",
    "       \"year\":2012}\n",
    "\n",
    "#print the original year\n",
    "print(car1[\"year\"])\n",
    "\n",
    "#change the year\n",
    "car1[\"year\"] = 2013\n",
    "\n",
    "#print the new car year\n",
    "print(car1[\"year\"])\n",
    "\n",
    "#add new information key\n",
    "car1[\"Owner\"] = \"Jake Hargreave\"\n",
    "\n",
    "#print updated car ifnormation\n",
    "print(car1)\n",
    "\n",
    "#or we can add another dictionary to the existing dictionary using the update function\n",
    "#this will be added to the end of the existing dictionary\n",
    "car1.update({\"color\":\"yellow\"})\n",
    "#this can also be used to update an existing key:value pair\n",
    "\n",
    "#print updated versino\n",
    "print(car1)"
   ]
  },
  {
   "cell_type": "markdown",
   "metadata": {},
   "source": [
    "Thus, we can see that we can see that we can change the information contained in a dictionary. We can also remove information from a dictionary in a similar way that we would for a list:"
   ]
  },
  {
   "cell_type": "code",
   "execution_count": 10,
   "metadata": {},
   "outputs": [
    {
     "name": "stdout",
     "output_type": "stream",
     "text": [
      "{'Juliet': 74, 'William': 52, 'Jessica': 48, 'Peter': 82, 'Holly': 90}\n",
      "{'Juliet': 74, 'Jessica': 48, 'Peter': 82, 'Holly': 90}\n",
      "{'Juliet': 74, 'Jessica': 48, 'Peter': 82}\n",
      "{}\n"
     ]
    }
   ],
   "source": [
    "scores = {\"Steve\":68,\n",
    "         \"Juliet\":74,\n",
    "         \"William\":52,\n",
    "         \"Jessica\":48,\n",
    "         \"Peter\":82,\n",
    "         \"Holly\":90}\n",
    "\n",
    "#we can use the del method\n",
    "del scores[\"Steve\"]\n",
    "#although be careful as if you don't specify the key you can delete the whole dictionary\n",
    "\n",
    "print(scores)\n",
    "\n",
    "#we can also use the pop method\n",
    "scores.pop(\"William\")\n",
    "\n",
    "print(scores)\n",
    "\n",
    "#or popitem removes the last time (although in versinos before Python 3.7 the removes a random item)\n",
    "scores.popitem()\n",
    "\n",
    "print(scores)\n",
    "\n",
    "#or we could empty the entire dictionary\n",
    "scores.clear()\n",
    "\n",
    "print(scores)"
   ]
  },
  {
   "cell_type": "markdown",
   "metadata": {},
   "source": [
    "Dictionaries, as lists, can also contain any datatype you want it to contain. As we've already seen it can take a string or an integer, but dictionaries can also take floats, lists or even dictionaries, along with different types within the same dictionary:"
   ]
  },
  {
   "cell_type": "code",
   "execution_count": null,
   "metadata": {},
   "outputs": [],
   "source": [
    "mixed_dict = {\"number\":52,\n",
    "             \"float\":3.49,\n",
    "             \"string\":\"Hello world\",\n",
    "             \"list\":[12, \"Cheese\", \"Orange\", 52],\n",
    "             \"Dictionary\":{\"Name\":\"Jemma\",\n",
    "                          \"Age\":23,\n",
    "                           \"Job\":\"Scientist\"}}\n",
    "\n",
    "#can you figure out how to access each of these?\n",
    "\n",
    "#accesing the float?\n",
    "\n",
    "#accessing the second value in the list?\n",
    "\n",
    "#accessing the age from the dictionary?"
   ]
  },
  {
   "cell_type": "markdown",
   "metadata": {},
   "source": [
    "Finally, as with lists, we have methods that can be used for dictionaries as well:"
   ]
  },
  {
   "cell_type": "code",
   "execution_count": 12,
   "metadata": {},
   "outputs": [
    {
     "name": "stdout",
     "output_type": "stream",
     "text": [
      "dict_keys(['Score1', 'Score2', 'Score3', 'Score4', 'Score5', 'Score6'])\n",
      "dict_values([12, 53, 74, 62, 88, 34])\n",
      "dict_items([('Score1', 12), ('Score2', 53), ('Score3', 74), ('Score4', 62), ('Score5', 88), ('Score6', 34)])\n",
      "6\n"
     ]
    }
   ],
   "source": [
    "dictionary = {\"Score1\":12,\n",
    "             \"Score2\":53,\n",
    "             \"Score3\":74,\n",
    "             \"Score4\":62,\n",
    "             \"Score5\":88,\n",
    "             \"Score6\":34}\n",
    "\n",
    "#access all the keys from the dictionary\n",
    "print(dictionary.keys())\n",
    "\n",
    "#access all the values form the dictionary\n",
    "print(dictionary.values())\n",
    "\n",
    "#access a tuple for each key value pair\n",
    "print(dictionary.items())\n",
    "\n",
    "#get the length of the dictionary\n",
    "print(len(dictionary))"
   ]
  },
  {
   "cell_type": "markdown",
   "metadata": {},
   "source": [
    "Thus, we have covered the main parts of a dictionary. The benefits of these are that you can assign information to them based on an individual key, for example if you had linked lists of names, scores and ages you could create a dictionary with each of these keys and lists for each. Alternatively if you had many cars and there was defined information for them you could create dictionaries for each of them with the keys representing the basic information. They also lay the foundation for "
   ]
  },
  {
   "cell_type": "markdown",
   "metadata": {},
   "source": [
    "## `list` and `tuple` at A Glance"
   ]
  },
  {
   "cell_type": "code",
   "execution_count": null,
   "metadata": {},
   "outputs": [],
   "source": [
    "list_by_literal = [1, 2, 3, \"4\", 5.0]\n",
    "print(\"List created by literal: \", list_by_literal)\n",
    "\n",
    "list_by_constructor = list([\"Welcome\", 2, \"DSS\"])\n",
    "print(\"List created by constructor: \", list_by_constructor)\n",
    "\n",
    "# This is wrong - why?\n",
    "# wrong_list = list(1, 2, 3)"
   ]
  },
  {
   "cell_type": "code",
   "execution_count": null,
   "metadata": {},
   "outputs": [],
   "source": [
    "x = [1, 2, 3, 4, 5]\n",
    "\n",
    "print(\"Length - len(x): \", len(x))\n",
    "\n",
    "x.append(\"6\")\n",
    "print(\"\\nAdd an object to tail - x.append(obj): \", x)\n",
    "\n",
    "x.reverse()\n",
    "print(\"\\nReversed - x.reverse(): \", x)\n",
    "\n",
    "x.remove(\"6\")\n",
    "print(\"\\nRemove a named object - x.remove(obj): \", x)\n",
    "\n",
    "print(\"\\nContains? - object in x: \", 7 in x)\n",
    "print(\"Contains? - object in x: \", 1 in x)\n",
    "\n",
    "\n",
    "print(\"\\nGet item - x[i]: \", x, x[3])\n",
    "x[3] = 100\n",
    "print(\"\\nSet item - x[i] = obj: \", x)"
   ]
  },
  {
   "cell_type": "markdown",
   "metadata": {},
   "source": [
    "### Thinking Question: ***Mutability***\n",
    "\n",
    "How to change a single character in a `str`?"
   ]
  },
  {
   "cell_type": "code",
   "execution_count": null,
   "metadata": {},
   "outputs": [],
   "source": [
    "# Try it yourself\n",
    "input_str = \"Hallo world!\"\n",
    "expected_str = \"Hello world!\""
   ]
  },
  {
   "cell_type": "code",
   "execution_count": null,
   "metadata": {},
   "outputs": [],
   "source": [
    "tuple_by_literal = (1, 2, 3, \"4\", 5.0)\n",
    "print(\"Tuple created by literal: \", tuple_by_literal)\n",
    "\n",
    "tuple_by_constructor = tuple([\"Welcome\", 2, \"DSS\"])\n",
    "print(\"Tuple created by constructor: \", tuple_by_constructor)\n",
    "\n",
    "tuple_by_constructor = tuple((\"Welcome\", 2, \"DSS\", \"Workshop\"))\n",
    "print(\"Tuple created by constructor: \", tuple_by_constructor)\n",
    "\n",
    "# This is wrong - why?\n",
    "# wrong_tuple = tuple(1, 2, 3)"
   ]
  },
  {
   "cell_type": "code",
   "execution_count": null,
   "metadata": {},
   "outputs": [],
   "source": [
    "x = (1, 2, 3, 3, 5)\n",
    "\n",
    "print(\"Length - len(x): \", len(x))\n",
    "\n",
    "print(\"\\nContains? - object in x: \", 7 in x)\n",
    "print(\"Contains? - object in x: \", 1 in x)\n",
    "\n",
    "print(\"\\nGet item - x[i]: \", x, x[3])\n",
    "\n",
    "print(\"\\nCount item - x.count(item): \", x.count(3))\n",
    "print(\"Count item - x.count(item): \", x.count(7))\n",
    "\n",
    "# The following doesn't work as expected, why?\n",
    "# x.append(\"6\")\n",
    "# x.reverse()\n",
    "# x.remove(\"6\")"
   ]
  },
  {
   "cell_type": "markdown",
   "metadata": {},
   "source": [
    "## List Comprehensions (*\"listcomp\"*)\n",
    "\n",
    "This is a quick way to build a sequence. It gives better readability and efficiency.\n",
    "\n",
    "A blueprint for listcomp:\n",
    "\n",
    "```python\n",
    "your_list = [f(x) for x in <some_iterable>]\n",
    "```"
   ]
  },
  {
   "cell_type": "markdown",
   "metadata": {},
   "source": [
    "### Example: Parsing Chinese String into Unicode `list`\n",
    "#### Typical `for in` Solution"
   ]
  },
  {
   "cell_type": "code",
   "execution_count": null,
   "metadata": {},
   "outputs": [],
   "source": [
    "input_str = \"欢迎来到数据科学社工作坊\"\n",
    "codes = []\n",
    "\n",
    "for char in input_str:\n",
    "    codes.append(ord(char))\n",
    "\n",
    "codes"
   ]
  },
  {
   "cell_type": "markdown",
   "metadata": {},
   "source": [
    "#### Listcomp Solution\n",
    "\n",
    "Here: \n",
    "- `x` is `char`\n",
    "- `f(x)` is `ord(char)\n",
    "- `<some_iterable>` is `input_str`"
   ]
  },
  {
   "cell_type": "code",
   "execution_count": null,
   "metadata": {},
   "outputs": [],
   "source": [
    "input_str = \"欢迎来到数据科学社工作坊\"\n",
    "codes = [ord(char) for char in input_str]\n",
    "codes"
   ]
  },
  {
   "cell_type": "markdown",
   "metadata": {},
   "source": [
    "### Think Question: Two-Dimensional List with listcomp\n",
    "\n",
    "Why it works? Fill in these points might help you think:\n",
    "\n",
    "In the inner listcomp:\n",
    "- `x` is :\n",
    "- `f(x)` is :\n",
    "- `<some_iterable>` is :\n",
    "\n",
    "In the outer listcomp:\n",
    "- `x` is :\n",
    "- `f(x)` is :\n",
    "- `<some_iterable>` is :"
   ]
  },
  {
   "cell_type": "code",
   "execution_count": null,
   "metadata": {},
   "outputs": [],
   "source": [
    "a = [[0 for i in range(0,9)] for j in range (0,9)]\n",
    "a"
   ]
  },
  {
   "cell_type": "markdown",
   "metadata": {},
   "source": [
    "#### Exercise 1a: Listcomp\n",
    "Create a list `a` of powers of 2 upto the 10th item, starting with 1"
   ]
  },
  {
   "cell_type": "code",
   "execution_count": null,
   "metadata": {},
   "outputs": [],
   "source": [
    "# Try it yourself"
   ]
  },
  {
   "cell_type": "markdown",
   "metadata": {},
   "source": [
    "### Cartesian Product with listcomp\n",
    "The resulting list has a length equal to the lengths of the input iterables multiplied.\n",
    "\n",
    "<img src=\"assets/cart_prod.png\">"
   ]
  },
  {
   "cell_type": "markdown",
   "metadata": {},
   "source": [
    "#### Example: T-Shirts\n",
    "We've got t-shirts of sizes: `S`, `M`, `L` and colour `black`, `white`, `red` in the store. Create a list consisting of tuples of different size+colour combinations"
   ]
  },
  {
   "cell_type": "code",
   "execution_count": null,
   "metadata": {},
   "outputs": [],
   "source": [
    "colours = ['black', 'white', 'red']\n",
    "sizes = ['S', 'M', 'L']\n",
    "\n",
    "tshirts = [(colour, size) for colour in colours for size in sizes]\n",
    "\n",
    "tshirts"
   ]
  },
  {
   "cell_type": "markdown",
   "metadata": {},
   "source": [
    "#### Exercise: Cartesian Products\n",
    "\n",
    "Work out the Cartesian product of vectors `[1, 2, 3]` and `[4, 5, 6]` using listcomp, and multiply each resultant item by 4. Output the resultant list"
   ]
  },
  {
   "cell_type": "code",
   "execution_count": null,
   "metadata": {},
   "outputs": [],
   "source": [
    "vector_1 = [1, 2, 3]\n",
    "vector_2 = [4, 5, 6]\n",
    "\n",
    "# Try it yourself"
   ]
  },
  {
   "cell_type": "markdown",
   "metadata": {},
   "source": [
    "## `tuple`\n",
    "\n",
    "Some text refer `tuple` as \"immutable list\". Is it true? Is that all what `tuple` is?\n",
    "\n",
    "### `tuple` as Records and Unpacking\n",
    "\n",
    "`tuple` holds records: each item in tuple holds the data for one field and the position of the item gives its meaning. The immutability ensures the number of fields is fixed and thus the integrity in the information it carries is maintained.\n",
    "\n",
    "This is also an advantage that allow us to introduce tuple unpacking"
   ]
  },
  {
   "cell_type": "code",
   "execution_count": null,
   "metadata": {},
   "outputs": [],
   "source": [
    "input_tuple_from_db = ('Tony', 'Male', 'Chinese', ('UCL', 'Shenzhen College of Int\\'l Education') , 2)\n",
    "\n",
    "name, gender, nationality, (univ, high_school), year = input_tuple_from_db\n",
    "\n",
    "print(\"Name: %s\\nGender: %s\\nNationality: %s\\nUniversity: %s\\nHigh School: %s\\nYear Group: %s\"%(name, gender, nationality, univ, high_school, str(year)))"
   ]
  },
  {
   "cell_type": "code",
   "execution_count": null,
   "metadata": {},
   "outputs": [],
   "source": [
    "# Dummy Place holder\n",
    "some_tuple = ('useless', 'meaningful1', 'useless', 'meaningful2')\n",
    "\n",
    "_, data1, _, data2 = some_tuple\n",
    "\n",
    "data1, data2"
   ]
  },
  {
   "cell_type": "markdown",
   "metadata": {},
   "source": [
    "### `tuple` as Immutable Lists\n",
    "\n",
    "Benefits:\n",
    "- ***Clarity***: If you see a `tuple` in code, you know the length will never change\n",
    "- ***Performance***: Less memory consumed"
   ]
  },
  {
   "cell_type": "markdown",
   "metadata": {},
   "source": [
    "### Thinking Question: Immutable but a Container?\n",
    "\n",
    "***Note that***: Though a `tuple` is immutable, but it is still a *container sequence*! \n",
    "\n",
    "***Why does it matter?***\n",
    "\n",
    ">***Hint***: a `tuple` containing a `list`?\n"
   ]
  },
  {
   "cell_type": "code",
   "execution_count": null,
   "metadata": {},
   "outputs": [],
   "source": [
    "# Try it yourself"
   ]
  },
  {
   "cell_type": "markdown",
   "metadata": {},
   "source": [
    "## Slicing"
   ]
  },
  {
   "cell_type": "code",
   "execution_count": null,
   "metadata": {},
   "outputs": [],
   "source": [
    "a = [1, 2, 3, 4, 5]\n",
    "\n",
    "print(\"Items at index 0~1: \", a[:2])\n",
    "print(\"Items at index 2~end:\", a[2:])"
   ]
  },
  {
   "cell_type": "code",
   "execution_count": null,
   "metadata": {},
   "outputs": [],
   "source": [
    "s = 'bicycle'\n",
    "print(\"First to last, step of 3: \", s[::3])\n",
    "print(\"First to last, step of -1 (a.k.a reverse): \", s[::-1])\n",
    "print(\"Last to first, step of 2: \", s[::-2])"
   ]
  },
  {
   "cell_type": "markdown",
   "metadata": {},
   "source": [
    "### [Slice Object](https://docs.python.org/3/c-api/slice.html?highlight=slice)\n",
    "\n",
    "In order to evaluate `seq[start:stop:step]`, Python calls `seq.__getitem__(slice(start, stop, step))`"
   ]
  },
  {
   "cell_type": "markdown",
   "metadata": {},
   "source": [
    "### Thinking Question: Assigning to Slices?\n",
    "\n",
    "Is it possible to assign to slices of mutable sequences?\n",
    "\n",
    "Consider `a[3] == 100`, what is the nature of this expression? What is your answer to the previous question now?\n",
    "\n",
    "If yes, how?"
   ]
  },
  {
   "cell_type": "markdown",
   "metadata": {},
   "source": [
    "## `+` and `*` on Sequences\n",
    "Addition and multiplication ***return*** a sequence of the same type as the oprand's. It makes a cahnged ***copy*** of the oprand."
   ]
  },
  {
   "cell_type": "code",
   "execution_count": null,
   "metadata": {},
   "outputs": [],
   "source": [
    "a = [1,2,3]\n",
    "print(\"list a*3\", a*3)\n",
    "print(\"list a: \", a) # Doesn't change the original sequence\n",
    "\n",
    "b = [4, 5, 6]\n",
    "print(\"list a+b: \", a+b)"
   ]
  },
  {
   "cell_type": "markdown",
   "metadata": {},
   "source": [
    "## Sorting\n",
    "We can use a method of `list` class or a built-in function to sort a list\n",
    "- [`list.sort()`](https://docs.python.org/3/library/stdtypes.html?highlight=list.sort#list.sort)\n",
    "- [`sorted()`](https://docs.python.org/3/library/functions.html?highlight=hash#sorted)\n",
    "\n",
    "### Thinking Question: `list.sort()` vs. `sorted()`\n",
    "Looking at the API, what are the differences?"
   ]
  },
  {
   "cell_type": "code",
   "execution_count": 31,
   "metadata": {},
   "outputs": [],
   "source": [
    "# Try it yourself\n",
    "numbers = [1, 7, 6, 5, 9, 11, 20, 88, 3, 15, 0]"
   ]
  }
 ],
 "metadata": {
  "kernelspec": {
   "display_name": "urbansim2",
   "language": "python",
   "name": "urbansim"
  },
  "language_info": {
   "codemirror_mode": {
    "name": "ipython",
    "version": 3
   },
   "file_extension": ".py",
   "mimetype": "text/x-python",
   "name": "python",
   "nbconvert_exporter": "python",
   "pygments_lexer": "ipython3",
   "version": "3.8.5"
  }
 },
 "nbformat": 4,
 "nbformat_minor": 2
}
